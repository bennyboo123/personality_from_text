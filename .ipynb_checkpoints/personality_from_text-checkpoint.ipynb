{
 "cells": [
  {
   "cell_type": "markdown",
   "metadata": {},
   "source": [
    "# 1. Setup\n",
    "We start off by importing the Python libraries we need. We also import the `essays` dataset (`essays.csv`) that we can find in the `data` directory of our project. We also format the column names, so that they are easier to work with."
   ]
  },
  {
   "cell_type": "code",
   "execution_count": null,
   "metadata": {},
   "outputs": [],
   "source": [
    "import numpy as np\n",
    "import pandas as pd\n",
    "import matplotlib.pyplot as plt\n",
    "import seaborn as sns; sns.set()\n",
    "import re\n",
    "\n",
    "from sklearn.base import BaseEstimator, TransformerMixin\n",
    "\n",
    "from sklearn.feature_extraction.text import TfidfVectorizer\n",
    "from sklearn.pipeline import Pipeline\n",
    "\n",
    "from sklearn.model_selection import train_test_split\n",
    "from sklearn.model_selection import cross_val_score\n",
    "from sklearn.model_selection import GridSearchCV\n",
    "\n",
    "from sklearn.naive_bayes import MultinomialNB\n",
    "from sklearn.ensemble import RandomForestClassifier\n",
    "from sklearn.linear_model import LogisticRegression\n",
    "from sklearn.multioutput import MultiOutputClassifier\n",
    "\n",
    "from sklearn.metrics import accuracy_score\n",
    "from sklearn.metrics import f1_score\n",
    "\n",
    "import warnings\n",
    "warnings.filterwarnings(\"ignore\")\n",
    "\n",
    "import nltk\n",
    "# nltk.download('stopwords')\n",
    "stop_words = set(nltk.corpus.stopwords.words('english'))\n",
    "\n",
    "\n",
    "essays_raw = pd.read_csv('data/essays.csv', engine='python');\n",
    "\n",
    "def clean_colnames(df):\n",
    "    df.columns = df.columns.str.replace(\"c|#\", \"\").str.lower()\n",
    "    return df\n",
    "    \n",
    "essays = clean_colnames(essays_raw.copy())\n",
    "essays_raw.head()"
   ]
  },
  {
   "cell_type": "markdown",
   "metadata": {},
   "source": [
    "# 2. Inpect the data\n",
    "\n",
    "Let's take a quick look at the structure of the `essays` dataset."
   ]
  },
  {
   "cell_type": "code",
   "execution_count": null,
   "metadata": {},
   "outputs": [],
   "source": [
    "# Print the first few rows of the dataset\n",
    "print(essays.head())\n",
    "\n",
    "# Print the number of rows and colums\n",
    "print(\"\\nNumber of rows and columns: {} \\n\".format(essays.shape))\n",
    "\n",
    "# Check if author ids are unique\n",
    "if len(essays['authid']) == len(essays):\n",
    "    print('All author ids are unique!')\n",
    "else:\n",
    "    print('Author ids are not unique!')\n",
    "    \n",
    "# Check if there are missing values in the dataset:\n",
    "essays.isnull().sum()"
   ]
  },
  {
   "cell_type": "markdown",
   "metadata": {},
   "source": [
    "We can see that we have a datasset containing 2467 essays from the same number of individual authors. We can also see that the dataset does not contain any missing values. Each essay is associated with an author id and 5 binary labels (one label per personality dimension):\n",
    "\n",
    "* Extraversion (`ext`)\n",
    "* Neuroticism (`neu`)\n",
    "* Agreeableness (`agr`)\n",
    "* Conscientiousness (`con`)\n",
    "* Openess (`opn`)\n",
    "\n",
    "Note that in psychological theory, the Big Five model actually considers all five traits as independent continious dimensions (and even defines sub dimensions - so-called facets - for each of them). However, for this machine learning task, the labels in our datasets represent just binary categories (e.g. a value of `y` in the `neu`-column indicates that the author of the given essay is neurotic).\n",
    "\n",
    "Obviously, our goal is to predict the five binary labels for a given essay. In the other words, the task at hand is a binary multi label classification task. Before we create a train-test split and preprocess our data, let's explore it a little bit further. For example we can look at the distribution of labels for each dimension."
   ]
  },
  {
   "cell_type": "code",
   "execution_count": null,
   "metadata": {},
   "outputs": [],
   "source": [
    "label_counts = pd.melt(essays.iloc[:, 2:7].apply(pd.Series.value_counts).reset_index().copy(),\n",
    "                       id_vars = ['index'], var_name = 'dimension', value_name = 'count').rename(columns = {'index': 'label'})\n",
    "\n",
    "label_counts"
   ]
  },
  {
   "cell_type": "code",
   "execution_count": null,
   "metadata": {},
   "outputs": [],
   "source": [
    "sns.barplot(x = \"dimension\", y = \"count\", hue = \"label\", data = label_counts)\n",
    "plt.legend(loc = 'center right')\n",
    "plt.legend(bbox_to_anchor = (1.05, 1), loc = 2)"
   ]
  },
  {
   "cell_type": "markdown",
   "metadata": {},
   "source": [
    "In the plot we can see that for each dimension the number of samples on the positive class (`y`) is roughly equal to the number of samples of the negative class (`n`). In other words, our dataset is appears to be pretty balanced (at least, if you look at each dimension separatly) Let's also look at the counts of individual combinations of dimensions:"
   ]
  },
  {
   "cell_type": "code",
   "execution_count": null,
   "metadata": {},
   "outputs": [],
   "source": [
    "indiv_combs = (essays['ext'] + essays['neu'] + essays['agr'] + essays['con'] + essays['opn']). \\\n",
    "               value_counts()\n",
    "\n",
    "indiv_combs.plot(kind = \"bar\", color = \"lightblue\")\n",
    "len(indiv_combs)"
   ]
  },
  {
   "cell_type": "markdown",
   "metadata": {},
   "source": [
    "From the plot above we can see that the individual combinations of dimensions are not equally frequent. Depending on how we attempt to solve our classification problem later on, this is something we want to keep in mind.\n",
    "\n",
    "As another exploration step, let's take a look at the number of characters in the `text`-column:"
   ]
  },
  {
   "cell_type": "code",
   "execution_count": null,
   "metadata": {},
   "outputs": [],
   "source": [
    "char_counts = essays.text.str.len()\n",
    "\n",
    "print(char_counts.hist(bins = int(np.sqrt(len(essays)))))"
   ]
  },
  {
   "cell_type": "markdown",
   "metadata": {},
   "source": [
    "Most essays appear to be between 2000 and 4000 characters long. There appear to some outliers as well (e.g. at least one essay with more than 12000 characters). This is something we want to keep in mind for later, as well.\n",
    "\n",
    "Also, we should look at some sample essays to see which kind of preprocessing we should to later on:"
   ]
  },
  {
   "cell_type": "code",
   "execution_count": null,
   "metadata": {
    "scrolled": true
   },
   "outputs": [],
   "source": [
    "essays.text[0]"
   ]
  },
  {
   "cell_type": "markdown",
   "metadata": {},
   "source": [
    "The text looks pretty messy: For example, there are a lot of special characters and abbreviations. This is not optimal if you want to feed the text to a model."
   ]
  },
  {
   "cell_type": "markdown",
   "metadata": {},
   "source": [
    "# 3. Preprocessing\n",
    "\n",
    "In this part, we will create classes that allow us clean our dataset. The goal is to have a nice and clean dataset that we can feed into a machine learning model.\n",
    "\n",
    "Note that we define a class for each preprocessing step, so that we can build a pipeline that combines all steps later on. We implement these classes as *transformer classes* to be able to feed them into pipelines. While `sklearn`comes with a lot of useful *transformer classes* already, we implement most classes we need by hand to get some practice.\n",
    "\n",
    "We also test each class on a copy of the dataset to make sure that the classes work as expected.\n",
    "\n",
    "## 3.1 Define preprocessing functions\n",
    "First, a class that cleans the column names of the raw data."
   ]
  },
  {
   "cell_type": "code",
   "execution_count": null,
   "metadata": {},
   "outputs": [],
   "source": [
    "class ColNameCleaner(BaseEstimator, TransformerMixin):\n",
    "    def __init__(self):\n",
    "        pass\n",
    "    \n",
    "    def fit(self, X, y = None):\n",
    "        return self\n",
    "    \n",
    "    def transform(self, X):\n",
    "        X.columns = X.columns.str.replace(\"c|#\", \"\").str.lower()\n",
    "        return X\n",
    "\n",
    "cleaner = ColNameCleaner()\n",
    "cleaner.transform(essays_raw.copy()).head()"
   ]
  },
  {
   "cell_type": "markdown",
   "metadata": {},
   "source": [
    "Next, we implement a class that drops the `#AUTHID` / `authid` column because we actually do not need it for the classification task."
   ]
  },
  {
   "cell_type": "code",
   "execution_count": null,
   "metadata": {},
   "outputs": [],
   "source": [
    "from sklearn.base import BaseEstimator, TransformerMixin\n",
    "\n",
    "class ColDropper(BaseEstimator, TransformerMixin):\n",
    "    def __init__(self, column):\n",
    "        self.column = column\n",
    "    \n",
    "    def fit(self, X, y = None):\n",
    "        return self\n",
    "    \n",
    "    def transform(self, X):\n",
    "        X = X.drop(columns = self.column)\n",
    "        return X\n",
    "    \n",
    "dropper = ColDropper(column = \"#AUTHID\")\n",
    "dropper.transform(essays_raw.copy()).head()"
   ]
  },
  {
   "cell_type": "markdown",
   "metadata": {},
   "source": [
    "We also implement a class that converts the `y` labels to 1s on the `n` labels to 0s for each personality dimension. We do this because some algorithms can not string labels. Also using a boolean data type is more computionally efficient. Note that in order to use this class the column names need to be cleaned up already."
   ]
  },
  {
   "cell_type": "code",
   "execution_count": null,
   "metadata": {},
   "outputs": [],
   "source": [
    "class LabelTransformer(BaseEstimator, TransformerMixin):\n",
    "    def __init__(self):\n",
    "        pass\n",
    "    \n",
    "    def fit(self, X, y = None):\n",
    "        return self\n",
    "    \n",
    "    def transform(self, X):\n",
    "        X['ext'], X['neu'], X['agr'], X['con'], X['opn'] = [[True if x == 'y' else False for x in col] \\\n",
    "                                                                                         for col in [X['ext'],\n",
    "                                                                                                     X['neu'],\n",
    "                                                                                                     X['agr'],\n",
    "                                                                                                     X['con'], \n",
    "                                                                                                     X['opn']]]\n",
    "        return X\n",
    "    \n",
    "lbl_trnsfr = LabelTransformer()\n",
    "lbl_trnsfr.transform(essays.copy()).head()"
   ]
  },
  {
   "cell_type": "markdown",
   "metadata": {},
   "source": [
    "As we can see from the output above, the string labels got turned into boolean values (True, False).\n",
    "\n",
    "Next, we create a function to clean the `TEXT` /`text` column. This function turns all letters to lower case and removes some abbreviations that are common in the english language. It also removes special characters and multiple consecutive spaces."
   ]
  },
  {
   "cell_type": "code",
   "execution_count": null,
   "metadata": {},
   "outputs": [],
   "source": [
    "def clean_text(text):\n",
    "    text = text.lower()\n",
    "    text = re.sub(r\"what's\", \"what is \", text)\n",
    "    text = re.sub(r\"i’m\", \"i am \", text)\n",
    "    text = re.sub('b/c', 'because', text)\n",
    "    text = re.sub(r\"\\'s\", \" \", text)\n",
    "    text = re.sub(r\"\\'ve\", \" have \", text)\n",
    "    text = re.sub(r\"can't\", \"can not \", text)\n",
    "    text = re.sub(r\"n't\", \" not \", text)\n",
    "    text = re.sub(r\"i'm\", \"i am \", text)\n",
    "    text = re.sub(r\"\\'re\", \" are \", text)\n",
    "    text = re.sub(r\"\\'d\", \" would \", text)\n",
    "    text = re.sub(r\"\\'ll\", \" will \", text)\n",
    "    text = re.sub(r\"’ll\", \" will \", text)\n",
    "    text = re.sub(r\"\\'scuse\", \" excuse \", text)\n",
    "    text = re.sub('\\W', ' ', text)\n",
    "    text = re.sub('\\s+', ' ', text)\n",
    "    text = text.strip(' ')\n",
    "    return text\n",
    "\n",
    "clean_text(essays_raw.TEXT[0])"
   ]
  },
  {
   "cell_type": "markdown",
   "metadata": {},
   "source": [
    "When we take a look at our sample essay now, it looks pretty good. Note that to make things simpler a string like `it's` is striped down to just `it`. We chose to do so because `is` is a typical stopword that we'll remove anyway.\n",
    "\n",
    "Now, we implement a class `TextCleaner` that applies the `clean_text` function to every row in the  `TEXT` / `text` column."
   ]
  },
  {
   "cell_type": "code",
   "execution_count": null,
   "metadata": {},
   "outputs": [],
   "source": [
    "# Pipeline test\n",
    "class TextCleaner(BaseEstimator, TransformerMixin):\n",
    "    def __init__(self, txt_col):\n",
    "        self.txt_col = txt_col\n",
    "    \n",
    "    def fit(self, X, y = None):\n",
    "        return self\n",
    "    \n",
    "    def transform(self, X):\n",
    "        X[self.txt_col] = X[self.txt_col].apply(clean_text)\n",
    "        return X\n",
    "\n",
    "cleaner = TextCleaner('TEXT')\n",
    "cleaner.transform(essays_raw.copy()).head()"
   ]
  },
  {
   "cell_type": "markdown",
   "metadata": {},
   "source": [
    "Looks alright. Our preprocessing classes seem to work fine. It's time to build a pipeline that combines the different preprocessing steps."
   ]
  },
  {
   "cell_type": "markdown",
   "metadata": {},
   "source": [
    "## 3.3. Build and apply cleaning pipeline\n",
    "\n",
    "We create a pipeline that contains all preprocessing steps we defined early. We can pass the raw data to the apply to create a clean data set that is (almost) ready to be fed to an machine learning algorithm.\n",
    "\n",
    "Note that we'll create another pipeline later on (after we create a train-test split). This pipeline uses the class `TfidfVectorizer` from `sklearn` to tokenize the text data and compute tf-idf statistics. This class can also be used to remove stop words from text input. Stop words are words that occur very frequently and thus do not contain much information about the specific content of a text. The second pipeline also contains a modelling step (i.e. fitting some classifier).\n",
    "\n",
    "This seperation into two pipelines is neccessary because `TfidfVectorizer` alters the shape of the input data. Thus, in order to feed datasets of different sizes (i.e. the test set) into a trained model, vectorization should go hand in hand with the modelling step."
   ]
  },
  {
   "cell_type": "code",
   "execution_count": null,
   "metadata": {},
   "outputs": [],
   "source": [
    "# New pipeline\n",
    "\n",
    "clean_pipeline = Pipeline([('colclean', ColNameCleaner()),\n",
    "                           ('idcoldrop', ColDropper(\"authid\")),\n",
    "                           ('lbltransf', LabelTransformer()),\n",
    "                           ('txtclean', TextCleaner('text'))])\n",
    "\n",
    "essays_clean = clean_pipeline.fit_transform(essays_raw.copy())\n",
    "essays_clean.head()"
   ]
  },
  {
   "cell_type": "markdown",
   "metadata": {},
   "source": [
    "## 3.2 Create a training set and a testing set\n",
    "\n",
    "We create a train test split from the raw data."
   ]
  },
  {
   "cell_type": "code",
   "execution_count": null,
   "metadata": {},
   "outputs": [],
   "source": [
    "train, test = train_test_split(essays_clean, random_state = 1, test_size = 0.3, shuffle = True)\n",
    "\n",
    "X_train = train['text'].copy()\n",
    "Y_train = train.copy().drop('text', axis = 1)\n",
    "\n",
    "X_test = test['text'].copy()\n",
    "Y_test = test.copy().drop('text', axis = 1)\n",
    "\n",
    "print(X_train.shape)\n",
    "print(X_test.shape)\n",
    "print(Y_train.shape)\n",
    "print(Y_test.shape)"
   ]
  },
  {
   "cell_type": "markdown",
   "metadata": {},
   "source": [
    "# 4. Explore models\n",
    "\n",
    "In the next step we try out some common machine learning algorithms on the preprocessed training set and see which algorithms appear to be promising. We also choose the approach to fit a separate model for each label as done by previous work (e.g. Majumber et al., 2016). We write a function that computes tf-idf statistics for the `text` column and fits seperate model for each personality dimension. It also evalutes the model on the training set using the `accuracy` metric. "
   ]
  },
  {
   "cell_type": "code",
   "execution_count": null,
   "metadata": {},
   "outputs": [],
   "source": [
    "def multi_label_clf(classifier, categories = ['ext', 'neu', 'agr', 'con', 'opn']):\n",
    "    \n",
    "    model_pipeline = Pipeline([('tfidf', TfidfVectorizer(stop_words = stop_words)),\n",
    "                               ('clf', classifier)])\n",
    "    \n",
    "    print('Accuracy using {}'.format(classifier))\n",
    "    \n",
    "    for category in categories:\n",
    "        model_pipeline.fit(X_train, Y_train[category])\n",
    "        preds = model_pipeline.predict(X_train)\n",
    "        print('Dimension {}: {}'.format(category, accuracy_score(Y_train[category], preds)))\n",
    "    \n",
    "    print('\\n')"
   ]
  },
  {
   "cell_type": "markdown",
   "metadata": {},
   "source": [
    "Now, we can easily apply this function to some algorithms we are interested in. By the way, as an alternative approach we could have used `sklearn`'s `MultiOuputClassifier` class to handle multi label classification (some algorithms support it by default, e.g. `KNeighborsClassifier`).\n",
    "\n",
    "Exmaple of training a classifier using the `MultiOutputClassifier`class:\n",
    "\n",
    "`forest_clf = MultiOutputClassifier(RandomForestClassifier(n_estimators = 20))`\n",
    "\n",
    "`forest_clf.fit(X_train_prepared, y_train_prepared)`"
   ]
  },
  {
   "cell_type": "code",
   "execution_count": null,
   "metadata": {},
   "outputs": [],
   "source": [
    "classifiers = [MultinomialNB(fit_prior = True, class_prior = None),\n",
    "               RandomForestClassifier(n_estimators = 50, random_state = 42),\n",
    "               LogisticRegression(solver = 'sag')]\n",
    "\n",
    "nb_clf, forest_clf, log_clf = list((map(multi_label_clf, classifiers)))\n",
    "print(nb_clf, forest_clf, log_clf)"
   ]
  },
  {
   "cell_type": "markdown",
   "metadata": {},
   "source": [
    "# 5. Model tuning\n",
    "The RandomForrestClassifer seems to do very well (perfect accuracy for all dimensions). The logistic regression perform good as well. So, we further explore these two model types.\n",
    "\n",
    "The perfect accuracy of the random forest model (accuracy scores of 1.0 for all five dimensions) indicates that the random forrest algorithm overfits the data. We don't want to touch our test set yet since we still need to fine-tune our model. To get a more realistic estimate on how the algorithm performs on new data we can use cross-validation.\n",
    "\n",
    "(Although the dataset is quite balanced we might want to take a look at metrics other than accuracy, as well - for example precision, recall and the F1-score.)"
   ]
  },
  {
   "cell_type": "code",
   "execution_count": null,
   "metadata": {},
   "outputs": [],
   "source": [
    "def multi_label_clf_cv(classifier, categories = ['ext', 'neu', 'agr', 'con', 'opn']):\n",
    "    \n",
    "    model_pipeline = Pipeline([('tfidf', TfidfVectorizer(stop_words = stop_words)),\n",
    "                               ('clf', classifier)])\n",
    "    \n",
    "    print('Accuracy using {}'.format(classifier))\n",
    "    \n",
    "    for category in categories:\n",
    "        model_pipeline.fit(X_train, Y_train[category])\n",
    "        scores = cross_val_score(model_pipeline, X_train, Y_train[category], scoring = \"accuracy\", cv = 3)\n",
    "        print(scores)\n",
    "    print('\\n')"
   ]
  },
  {
   "cell_type": "code",
   "execution_count": null,
   "metadata": {
    "scrolled": true
   },
   "outputs": [],
   "source": [
    "multi_label_clf_cv(RandomForestClassifier(n_estimators = 50, random_state = 42))\n",
    "multi_label_clf_cv(LogisticRegression(solver = 'sag'))"
   ]
  },
  {
   "cell_type": "markdown",
   "metadata": {},
   "source": [
    "Oof! When using cross validation the algorithms do not do as well as expected. The accuracy for most dimensions is barely above chance level (50%). Now, the logistic regression seems to do a little bit better compared the random forest. One thing we can do to optimize our model is tune its hyperparameters using grid search or randomized search.\n",
    "\n",
    "From now on we'll concentrate on the `LogisticRegression` classifiers since it seems to perform better on data it has not seen before.\n",
    "\n",
    "Remember that we actually fit one model per personality dimension. We will do a grid search for each model to find good hyperparameters. We'll only focus on some of the possbile hyperparameters."
   ]
  },
  {
   "cell_type": "code",
   "execution_count": null,
   "metadata": {},
   "outputs": [],
   "source": [
    "def log_reg_search(category):\n",
    "    log_reg_pipe = Pipeline([(\"tfidf\",  TfidfVectorizer(stop_words = stop_words)),\n",
    "                         ('clf', LogisticRegression())])\n",
    "\n",
    "    param_grid = {}\n",
    "    param_grid[\"clf__C\"] = np.logspace(-3, 3, 7)\n",
    "    param_grid[\"clf__solver\"] = [\"liblinear\", \"sag\"]\n",
    "\n",
    "    grid_search = GridSearchCV(log_reg_pipe, param_grid, cv = 3,\n",
    "                              scoring = 'accuracy')\n",
    "\n",
    "    grid_search.fit(X_train, Y_train[category])\n",
    "    \n",
    "    return grid_search.best_estimator_"
   ]
  },
  {
   "cell_type": "code",
   "execution_count": null,
   "metadata": {},
   "outputs": [],
   "source": [
    "# Running this cell might take a few minutes\n",
    "categories = ['ext', 'neu', 'agr', 'con', 'opn']\n",
    "\n",
    "best_ext_model, best_neu_model, best_agr_model,best_con_model, best_opn_model = list(map(log_reg_search, categories))"
   ]
  },
  {
   "cell_type": "code",
   "execution_count": 131,
   "metadata": {},
   "outputs": [
    {
     "name": "stdout",
     "output_type": "stream",
     "text": [
      "[0.59375    0.640625   0.62195122]\n"
     ]
    }
   ],
   "source": [
    "# Example of a model validation using cross validation\n",
    "best_opn_model.fit(X_train, Y_train['opn'])\n",
    "scores = cross_val_score(final_ext_model, X_train, Y_train['opn'], scoring = \"accuracy\", cv = 3)\n",
    "print(scores)"
   ]
  },
  {
   "cell_type": "markdown",
   "metadata": {},
   "source": [
    "Evaluate models using the test set:"
   ]
  },
  {
   "cell_type": "code",
   "execution_count": 126,
   "metadata": {},
   "outputs": [],
   "source": [
    "def test_accuracy(category, model):\n",
    "    preds = model.predict(X_test)\n",
    "    preds = model.predict(X_test)\n",
    "    return accuracy_score(Y_test[category], preds)"
   ]
  },
  {
   "cell_type": "code",
   "execution_count": 130,
   "metadata": {
    "scrolled": true
   },
   "outputs": [
    {
     "name": "stdout",
     "output_type": "stream",
     "text": [
      "0.553306342780027 0.5681511470985156 0.5425101214574899 0.5465587044534413 0.6140350877192983\n"
     ]
    }
   ],
   "source": [
    "print(test_accuracy('ext', best_ext_model),\n",
    "      test_accuracy('neu', best_neu_model),\n",
    "      test_accuracy('agr', best_agr_model),\n",
    "      test_accuracy('con', best_con_model),\n",
    "      test_accuracy('opn', best_opn_model))"
   ]
  },
  {
   "cell_type": "markdown",
   "metadata": {},
   "source": [
    "Well, at least all accuracy scores are above chance level. Personality detection from text is a hard. Even in the work of Majumber et al. (2016) (which compared a lot different deep learning and shallow machine learning models) 4 out of 5 models (per personality dimension) reached a mean accuracy of below 0.6."
   ]
  },
  {
   "cell_type": "markdown",
   "metadata": {},
   "source": [
    "Next steps:\n",
    "* Code / Strktur überarbeiten\n",
    "* Weitere mögliche Modelle explorieren, Grid Search optimieren"
   ]
  }
 ],
 "metadata": {
  "kernelspec": {
   "display_name": "Python 3",
   "language": "python",
   "name": "python3"
  },
  "language_info": {
   "codemirror_mode": {
    "name": "ipython",
    "version": 3
   },
   "file_extension": ".py",
   "mimetype": "text/x-python",
   "name": "python",
   "nbconvert_exporter": "python",
   "pygments_lexer": "ipython3",
   "version": "3.6.5"
  }
 },
 "nbformat": 4,
 "nbformat_minor": 2
}
